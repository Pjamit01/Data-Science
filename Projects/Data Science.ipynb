{
 "cells": [
  {
   "cell_type": "markdown",
   "id": "3bdbf086",
   "metadata": {},
   "source": []
  },
  {
   "cell_type": "code",
   "execution_count": 2,
   "id": "65dee1a5",
   "metadata": {},
   "outputs": [
    {
     "name": "stdout",
     "output_type": "stream",
     "text": [
      "hello woeld\n"
     ]
    }
   ],
   "source": [
    "print(\"hello woeld\")"
   ]
  },
  {
   "cell_type": "code",
   "execution_count": 3,
   "id": "621cebcf",
   "metadata": {},
   "outputs": [
    {
     "name": "stdout",
     "output_type": "stream",
     "text": [
      "Amit Srivastava\n"
     ]
    }
   ],
   "source": [
    "print(\"Amit Srivastava\")"
   ]
  },
  {
   "cell_type": "code",
   "execution_count": 4,
   "id": "fc0d510a",
   "metadata": {},
   "outputs": [
    {
     "name": "stdout",
     "output_type": "stream",
     "text": [
      "data science\n"
     ]
    }
   ],
   "source": [
    "print(\"data science\")"
   ]
  },
  {
   "cell_type": "code",
   "execution_count": 7,
   "id": "5859921b",
   "metadata": {},
   "outputs": [
    {
     "name": "stdout",
     "output_type": "stream",
     "text": [
      "Amrita\n"
     ]
    }
   ],
   "source": [
    "print(\"Amrita\")"
   ]
  },
  {
   "cell_type": "code",
   "execution_count": 11,
   "id": "21670b5c",
   "metadata": {},
   "outputs": [
    {
     "name": "stdout",
     "output_type": "stream",
     "text": [
      "16\n"
     ]
    }
   ],
   "source": [
    "x=4\n",
    "y=4\n",
    "print(x*y)"
   ]
  },
  {
   "cell_type": "code",
   "execution_count": null,
   "id": "36738fb8",
   "metadata": {},
   "outputs": [],
   "source": []
  }
 ],
 "metadata": {
  "kernelspec": {
   "display_name": "Python 3 (ipykernel)",
   "language": "python",
   "name": "python3"
  },
  "language_info": {
   "codemirror_mode": {
    "name": "ipython",
    "version": 3
   },
   "file_extension": ".py",
   "mimetype": "text/x-python",
   "name": "python",
   "nbconvert_exporter": "python",
   "pygments_lexer": "ipython3",
   "version": "3.9.13"
  }
 },
 "nbformat": 4,
 "nbformat_minor": 5
}
